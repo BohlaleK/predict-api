{
 "cells": [
  {
   "cell_type": "markdown",
   "id": "00569ede",
   "metadata": {},
   "source": [
    "# Regression Predict Student Solution\n",
    "\n",
    "© Explore Data Science Academy\n",
    "\n",
    "---\n",
    "### Honour Code\n",
    "\n",
    "I {**YOUR NAME, YOUR SURNAME**}, confirm - by submitting this document - that the solutions in this notebook are a result of my own work and that I abide by the [EDSA honour code](https://drive.google.com/file/d/1QDCjGZJ8-FmJE3bZdIQNwnJyQKPhHZBn/view?usp=sharing).\n",
    "\n",
    "Non-compliance with the honour code constitutes a material breach of contract.\n"
   ]
  },
  {
   "cell_type": "markdown",
   "id": "fa0e6c02",
   "metadata": {},
   "source": [
    "## Imports"
   ]
  },
  {
   "cell_type": "code",
   "execution_count": 1,
   "id": "3c6fdb63",
   "metadata": {},
   "outputs": [],
   "source": [
    "import pandas as pd\n",
    "import numpy as np\n",
    "#import matplotlib.pyplot as plt\n",
    "#from seaborn import pairplot\n",
    "#from statsmodels.graphics.correlation import plot_corr\n",
    "import statsmodels.formula.api as sm\n",
    "#from statsmodels.graphics.gofplots import qqplot\n",
    "\n",
    "from sklearn.linear_model import Ridge\n",
    "#from sklearn.model_selection import train_test_split\n",
    "from sklearn import metrics"
   ]
  },
  {
   "cell_type": "markdown",
   "id": "72859f22",
   "metadata": {},
   "source": [
    "# Reading Data"
   ]
  },
  {
   "cell_type": "code",
   "execution_count": 2,
   "id": "71074ef3",
   "metadata": {},
   "outputs": [],
   "source": [
    "#making sure that we can see all rows and cols\n",
    "pd.set_option('display.max_columns', None)\n",
    "\n",
    "pd.set_option('display.max_rows', None)\n",
    "#reading the data from the csv\n",
    "###########################################################################################################################\n",
    "\n",
    "\n",
    "df = pd.read_csv('df_train.csv')\n",
    "\n",
    "df_test = pd.read_csv('df_test.csv')\n",
    "\n",
    "# remove missing values/ features\n",
    "df['time'] = pd.to_datetime(df['time']) # changing the date datatype\n",
    "\n",
    "#cols_to_drop = ['Unnamed: 0']\n",
    "cols_to_drop = [item for item in df.columns if (item.endswith('_id') or item.endswith('_deg') \n",
    "                or item.endswith('ssure') or item.endswith('_1h') or item.endswith('_min') or item.endswith('_max'))]\n",
    "\n",
    "df.drop(cols_to_drop,inplace = True,axis = 1) #deleting the first column\n",
    "df.drop(['Unnamed: 0'],inplace = True,axis = 1)\n",
    "\n",
    "df.drop_duplicates(keep=False,inplace=True)#removing duplicates\n",
    "\n",
    "\n",
    "\n",
    "###################################### Test data #####################################################################\n",
    "\n",
    "df_test['time'] = pd.to_datetime(df_test['time']) # changing the date datatype\n",
    "\n",
    "#cols_to_drop = ['Unnamed: 0']\n",
    "cols_to_drop = [item for item in df_test.columns if (item.endswith('_id') or item.endswith('_deg') or \n",
    "                    item.endswith('ssure') or item.endswith('_1h') or item.endswith('_min') or item.endswith('_max'))]\n",
    "\n",
    "df_test.drop(cols_to_drop,inplace = True,axis = 1) #deleting the first column\n",
    "df_test.drop(['Unnamed: 0'],inplace = True,axis = 1)\n",
    "\n",
    "df_test.drop_duplicates(keep=False,inplace=True)#removing duplicates\n"
   ]
  },
  {
   "cell_type": "markdown",
   "id": "eef702a0",
   "metadata": {},
   "source": [
    "# Preparing Data for model Training and Testing"
   ]
  },
  {
   "cell_type": "code",
   "execution_count": 3,
   "id": "8f263694",
   "metadata": {},
   "outputs": [],
   "source": [
    "\n",
    "\n",
    "df_1 = df.copy()\n",
    "\n",
    "cols_to_X = df.columns[1:23]\n",
    "\n",
    "cols_to_X_test = df_test.columns[1:21]\n",
    "cols_to_Y = df.columns[-1]\n",
    "\n",
    "\n",
    "X_test = df_test[cols_to_X_test]\n",
    "                                                \n",
    "X = df_1[cols_to_X]\n",
    "\n",
    "y = df_1[cols_to_Y]\n",
    "df_2 = pd.merge(y,df_1[cols_to_X],how = 'right',on = cols_to_Y) #data frame for training\n",
    "#X_train, X_test, y_train, y_test = train_test_split(X, y, test_size = 0.2, random_state = 50)\n",
    "\n",
    " "
   ]
  },
  {
   "cell_type": "code",
   "execution_count": null,
   "id": "9aa8c149",
   "metadata": {},
   "outputs": [],
   "source": []
  },
  {
   "cell_type": "markdown",
   "id": "46edc459",
   "metadata": {},
   "source": [
    "# Model Training"
   ]
  },
  {
   "cell_type": "code",
   "execution_count": 135,
   "id": "9715f10c",
   "metadata": {},
   "outputs": [],
   "source": [
    "formula_str = df.columns[-1]+' ~ '+'+'.join(df.columns[1:21]);"
   ]
  },
  {
   "cell_type": "code",
   "execution_count": 136,
   "id": "28f504ef",
   "metadata": {},
   "outputs": [],
   "source": [
    "model=sm.ols(formula=formula_str, data=df_2)"
   ]
  },
  {
   "cell_type": "code",
   "execution_count": 140,
   "id": "4ee17708",
   "metadata": {},
   "outputs": [],
   "source": [
    "fitted = model.fit()"
   ]
  },
  {
   "cell_type": "code",
   "execution_count": 141,
   "id": "b94cd780",
   "metadata": {},
   "outputs": [],
   "source": [
    "y_ = fitted.fittedvalues"
   ]
  },
  {
   "cell_type": "code",
   "execution_count": 142,
   "id": "66b7fa2f",
   "metadata": {},
   "outputs": [],
   "source": [
    "#lm = Ridge(alpha = 1.0, normalize=False)\n",
    "\n",
    "#pre_dict = lm.fit(X_train,y_train)\n",
    "\n"
   ]
  },
  {
   "cell_type": "markdown",
   "id": "c8db95a3",
   "metadata": {},
   "source": [
    "# Model Testing"
   ]
  },
  {
   "cell_type": "code",
   "execution_count": 178,
   "id": "5a812a59",
   "metadata": {},
   "outputs": [],
   "source": [
    "#y_hat = model.predict(X_test)\n",
    "  \n",
    "y_hat = fitted.predict(X_test) #predicted values\n",
    "\n",
    "pre_dict = {'time':df_test[df_test.columns[0]],'load_shortfall_3h': y_hat} # dictionary containing predicted values\n",
    "\n",
    "predict_ed = pd.DataFrame(pre_dict) # dataframe with the date and load_shortfall_3h"
   ]
  },
  {
   "cell_type": "code",
   "execution_count": 179,
   "id": "d45b7f85",
   "metadata": {},
   "outputs": [],
   "source": [
    "\n",
    "predict_ed.to_csv('Team_1.csv',index = False)"
   ]
  },
  {
   "cell_type": "code",
   "execution_count": 181,
   "id": "825c50bd",
   "metadata": {},
   "outputs": [],
   "source": []
  },
  {
   "cell_type": "code",
   "execution_count": 182,
   "id": "168af0b6",
   "metadata": {},
   "outputs": [
    {
     "data": {
      "text/html": [
       "<div>\n",
       "<style scoped>\n",
       "    .dataframe tbody tr th:only-of-type {\n",
       "        vertical-align: middle;\n",
       "    }\n",
       "\n",
       "    .dataframe tbody tr th {\n",
       "        vertical-align: top;\n",
       "    }\n",
       "\n",
       "    .dataframe thead th {\n",
       "        text-align: right;\n",
       "    }\n",
       "</style>\n",
       "<table border=\"1\" class=\"dataframe\">\n",
       "  <thead>\n",
       "    <tr style=\"text-align: right;\">\n",
       "      <th></th>\n",
       "      <th>time</th>\n",
       "      <th>load_shortfall_3h</th>\n",
       "    </tr>\n",
       "  </thead>\n",
       "  <tbody>\n",
       "    <tr>\n",
       "      <th>0</th>\n",
       "      <td>2018-01-01 00:00:00</td>\n",
       "      <td>8470.213539</td>\n",
       "    </tr>\n",
       "    <tr>\n",
       "      <th>1</th>\n",
       "      <td>2018-01-01 03:00:00</td>\n",
       "      <td>8441.268762</td>\n",
       "    </tr>\n",
       "    <tr>\n",
       "      <th>2</th>\n",
       "      <td>2018-01-01 06:00:00</td>\n",
       "      <td>8815.673050</td>\n",
       "    </tr>\n",
       "    <tr>\n",
       "      <th>3</th>\n",
       "      <td>2018-01-01 09:00:00</td>\n",
       "      <td>8638.526412</td>\n",
       "    </tr>\n",
       "    <tr>\n",
       "      <th>4</th>\n",
       "      <td>2018-01-01 12:00:00</td>\n",
       "      <td>8484.047418</td>\n",
       "    </tr>\n",
       "  </tbody>\n",
       "</table>\n",
       "</div>"
      ],
      "text/plain": [
       "                  time  load_shortfall_3h\n",
       "0  2018-01-01 00:00:00        8470.213539\n",
       "1  2018-01-01 03:00:00        8441.268762\n",
       "2  2018-01-01 06:00:00        8815.673050\n",
       "3  2018-01-01 09:00:00        8638.526412\n",
       "4  2018-01-01 12:00:00        8484.047418"
      ]
     },
     "execution_count": 182,
     "metadata": {},
     "output_type": "execute_result"
    }
   ],
   "source": []
  },
  {
   "cell_type": "code",
   "execution_count": null,
   "id": "621a4849",
   "metadata": {},
   "outputs": [],
   "source": []
  }
 ],
 "metadata": {
  "kernelspec": {
   "display_name": "Python 3",
   "language": "python",
   "name": "python3"
  },
  "language_info": {
   "codemirror_mode": {
    "name": "ipython",
    "version": 3
   },
   "file_extension": ".py",
   "mimetype": "text/x-python",
   "name": "python",
   "nbconvert_exporter": "python",
   "pygments_lexer": "ipython3",
   "version": "3.8.8"
  }
 },
 "nbformat": 4,
 "nbformat_minor": 5
}
